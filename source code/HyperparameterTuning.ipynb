{
  "nbformat": 4,
  "nbformat_minor": 0,
  "metadata": {
    "colab": {
      "provenance": []
    },
    "kernelspec": {
      "name": "python3",
      "display_name": "Python 3"
    },
    "language_info": {
      "name": "python"
    }
  },
  "cells": [
    {
      "cell_type": "code",
      "execution_count": null,
      "metadata": {
        "id": "Z9jQcVWB2N6b"
      },
      "outputs": [],
      "source": [
        "import pandas as pd\n",
        "import numpy as np\n",
        "import matplotlib.pyplot as plt\n",
        "import seaborn as sns\n",
        "import nltk\n",
        "from nltk.corpus import stopwords\n",
        "from nltk.tokenize import word_tokenize"
      ]
    },
    {
      "cell_type": "code",
      "source": [
        "df = pd.read_csv('spam_ham_dataset.csv', encoding=\"latin-1\")\n"
      ],
      "metadata": {
        "id": "6kQU5RbT2ux9"
      },
      "execution_count": null,
      "outputs": []
    },
    {
      "cell_type": "code",
      "source": [
        "# Download NLTK data\n",
        "nltk.download('stopwords')\n",
        "nltk.download('punkt')"
      ],
      "metadata": {
        "colab": {
          "base_uri": "https://localhost:8080/"
        },
        "id": "-Z48253C2zKq",
        "outputId": "ada433fe-028f-4525-92bc-9e0aece9e76a"
      },
      "execution_count": null,
      "outputs": [
        {
          "output_type": "stream",
          "name": "stderr",
          "text": [
            "[nltk_data] Downloading package stopwords to /root/nltk_data...\n",
            "[nltk_data]   Unzipping corpora/stopwords.zip.\n",
            "[nltk_data] Downloading package punkt to /root/nltk_data...\n",
            "[nltk_data]   Unzipping tokenizers/punkt.zip.\n"
          ]
        },
        {
          "output_type": "execute_result",
          "data": {
            "text/plain": [
              "True"
            ]
          },
          "metadata": {},
          "execution_count": 3
        }
      ]
    },
    {
      "cell_type": "code",
      "source": [
        "# Initial exploration\n",
        "print(df.head())\n",
        "print(df.info())"
      ],
      "metadata": {
        "colab": {
          "base_uri": "https://localhost:8080/"
        },
        "id": "e-fvce3G22cG",
        "outputId": "68ec681f-4a71-4f61-cf96-9de36d467e88"
      },
      "execution_count": null,
      "outputs": [
        {
          "output_type": "stream",
          "name": "stdout",
          "text": [
            "   Unnamed: 0 label                                               text  \\\n",
            "0         605   ham  Subject: enron methanol ; meter # : 988291\\r\\n...   \n",
            "1        2349   ham  Subject: hpl nom for january 9 , 2001\\r\\n( see...   \n",
            "2        3624   ham  Subject: neon retreat\\r\\nho ho ho , we ' re ar...   \n",
            "3        4685  spam  Subject: photoshop , windows , office . cheap ...   \n",
            "4        2030   ham  Subject: re : indian springs\\r\\nthis deal is t...   \n",
            "\n",
            "   label_num  \n",
            "0          0  \n",
            "1          0  \n",
            "2          0  \n",
            "3          1  \n",
            "4          0  \n",
            "<class 'pandas.core.frame.DataFrame'>\n",
            "RangeIndex: 5171 entries, 0 to 5170\n",
            "Data columns (total 4 columns):\n",
            " #   Column      Non-Null Count  Dtype \n",
            "---  ------      --------------  ----- \n",
            " 0   Unnamed: 0  5171 non-null   int64 \n",
            " 1   label       5171 non-null   object\n",
            " 2   text        5171 non-null   object\n",
            " 3   label_num   5171 non-null   int64 \n",
            "dtypes: int64(2), object(2)\n",
            "memory usage: 161.7+ KB\n",
            "None\n"
          ]
        }
      ]
    },
    {
      "cell_type": "code",
      "source": [
        "# Drop unnecessary columns\n",
        "df.drop(columns=['Unnamed: 0'], inplace=True)\n",
        "\n",
        "# Rename columns\n",
        "df.rename(columns={'v1': 'label', 'v2': 'message'}, inplace=True)"
      ],
      "metadata": {
        "id": "tT3yNjm423oh"
      },
      "execution_count": null,
      "outputs": []
    },
    {
      "cell_type": "code",
      "source": [
        "# Encode labels\n",
        "from sklearn.preprocessing import LabelEncoder\n",
        "encoder = LabelEncoder()\n",
        "df['label'] = encoder.fit_transform(df['label'])"
      ],
      "metadata": {
        "id": "OHofRX0e27Pj"
      },
      "execution_count": null,
      "outputs": []
    },
    {
      "cell_type": "code",
      "source": [
        "# Check for null values and duplicates\n",
        "print(df.isnull().sum())\n",
        "print(df.duplicated().sum())"
      ],
      "metadata": {
        "colab": {
          "base_uri": "https://localhost:8080/"
        },
        "id": "ZsTRt2-b2_a3",
        "outputId": "b66861f0-2c49-4050-bba5-f378dcbd7e85"
      },
      "execution_count": null,
      "outputs": [
        {
          "output_type": "stream",
          "name": "stdout",
          "text": [
            "label        0\n",
            "text         0\n",
            "label_num    0\n",
            "dtype: int64\n",
            "178\n"
          ]
        }
      ]
    },
    {
      "cell_type": "code",
      "source": [
        "# Drop duplicates\n",
        "df = df.drop_duplicates(keep='first')\n",
        "print(df.shape)"
      ],
      "metadata": {
        "colab": {
          "base_uri": "https://localhost:8080/"
        },
        "id": "pTFdc41T3A5c",
        "outputId": "284dc9ef-1078-4e18-c439-418186423b9c"
      },
      "execution_count": null,
      "outputs": [
        {
          "output_type": "stream",
          "name": "stdout",
          "text": [
            "(4993, 3)\n"
          ]
        }
      ]
    },
    {
      "cell_type": "code",
      "source": [
        "# Data visualization\n",
        "values = df['label'].value_counts()\n",
        "total = values.sum()\n",
        "\n",
        "percentage_0 = (values[0] / total) * 100\n",
        "percentage_1 = (values[1] / total) * 100\n",
        "\n",
        "print('Percentage of 0 (Ham):', percentage_0)\n",
        "print('Percentage of 1 (Spam):', percentage_1)"
      ],
      "metadata": {
        "colab": {
          "base_uri": "https://localhost:8080/"
        },
        "id": "ncXY3TcD3DqB",
        "outputId": "a3e813e5-5289-418f-bc50-ec40300d4e85"
      },
      "execution_count": null,
      "outputs": [
        {
          "output_type": "stream",
          "name": "stdout",
          "text": [
            "Percentage of 0 (Ham): 70.71900660925296\n",
            "Percentage of 1 (Spam): 29.280993390747046\n"
          ]
        }
      ]
    },
    {
      "cell_type": "code",
      "source": [
        "# Plot pie chart\n",
        "labels = ['Ham', 'Spam']\n",
        "percentages = [percentage_0, percentage_1]\n",
        "\n",
        "plt.pie(percentages, labels=labels, autopct='%1.1f%%')\n",
        "plt.title('Percentage of Ham and Spam')\n",
        "plt.show()"
      ],
      "metadata": {
        "colab": {
          "base_uri": "https://localhost:8080/",
          "height": 428
        },
        "id": "HhfJbYbm3GBD",
        "outputId": "638ea0a6-1023-4498-ed76-21c0d4b512e1"
      },
      "execution_count": null,
      "outputs": [
        {
          "output_type": "display_data",
          "data": {
            "text/plain": [
              "<Figure size 640x480 with 1 Axes>"
            ],
            "image/png": "[encoded data removed]"
          },
          "metadata": {}
        }
      ]
    },
    {
      "cell_type": "code",
      "source": [
        "# Feature engineering\n",
        "df['num_characters'] = df['text'].apply(len)\n",
        "df['num_words'] = df['text'].apply(lambda x: len(nltk.word_tokenize(x)))\n",
        "df['num_sentence'] = df['text'].apply(lambda x: len(nltk.sent_tokenize(x)))"
      ],
      "metadata": {
        "colab": {
          "base_uri": "https://localhost:8080/"
        },
        "id": "Rtgthjhf3IYv",
        "outputId": "d2cf5165-318d-4797-d366-ef7feada437b"
      },
      "execution_count": null,
      "outputs": [
        {
          "output_type": "stream",
          "name": "stderr",
          "text": [
            "<ipython-input-13-0815e659e0fb>:2: SettingWithCopyWarning: \n",
            "A value is trying to be set on a copy of a slice from a DataFrame.\n",
            "Try using .loc[row_indexer,col_indexer] = value instead\n",
            "\n",
            "See the caveats in the documentation: https://pandas.pydata.org/pandas-docs/stable/user_guide/indexing.html#returning-a-view-versus-a-copy\n",
            "  df['num_characters'] = df['text'].apply(len)\n"
          ]
        }
      ]
    },
    {
      "cell_type": "code",
      "source": [
        "# Correlation heatmap\n",
        "correlation_matrix = df[['label', 'num_characters', 'num_words', 'num_sentence']].corr()\n",
        "plt.figure(figsize=(10, 6))\n",
        "sns.heatmap(correlation_matrix, annot=True, cmap='coolwarm', linewidths=0.5, fmt=\".2f\")\n",
        "plt.title(\"Correlation Heatmap\")\n",
        "plt.xticks(rotation=45)\n",
        "plt.show()"
      ],
      "metadata": {
        "colab": {
          "base_uri": "https://localhost:8080/",
          "height": 620
        },
        "id": "XcIJRSYz3KFB",
        "outputId": "2b59c2a9-025b-450c-dad8-474c1225e52e"
      },
      "execution_count": null,
      "outputs": [
        {
          "output_type": "display_data",
          "data": {
            "text/plain": [
              "<Figure size 1000x600 with 2 Axes>"
            ],
            "image/png": "[encoded data removed]"
          },
          "metadata": {}
        }
      ]
    },
    {
      "cell_type": "code",
      "source": [
        "# Text preprocessing\n",
        "from nltk.stem.porter import PorterStemmer\n",
        "import string\n",
        "\n",
        "ps = PorterStemmer()\n",
        "\n",
        "def transform_text(text):\n",
        "    text = text.lower()\n",
        "    text = nltk.word_tokenize(text)\n",
        "    y = [ps.stem(i) for i in text if i.isalnum() and i not in stopwords.words('english') and i not in string.punctuation]\n",
        "    return \" \".join(y)\n",
        "\n",
        "df['transformed_text'] = df['text'].apply(transform_text)"
      ],
      "metadata": {
        "id": "uirXUQVV3aCp"
      },
      "execution_count": null,
      "outputs": []
    },
    {
      "cell_type": "code",
      "source": [
        "# TF-IDF vectorization\n",
        "from sklearn.feature_extraction.text import TfidfVectorizer\n",
        "tfid = TfidfVectorizer(max_features=3000)\n",
        "X = tfid.fit_transform(df['transformed_text']).toarray()\n",
        "y = df['label'].values\n"
      ],
      "metadata": {
        "id": "LfgLRMQC3gIa"
      },
      "execution_count": null,
      "outputs": []
    },
    {
      "cell_type": "code",
      "source": [
        "# Train-test split\n",
        "from sklearn.model_selection import train_test_split\n",
        "X_train, X_test, y_train, y_test = train_test_split(X, y, test_size=0.20, random_state=2)\n",
        "\n",
        "# Model initialization\n",
        "from sklearn.linear_model import LogisticRegression\n",
        "from sklearn.svm import SVC\n",
        "from sklearn.naive_bayes import MultinomialNB\n",
        "from sklearn.tree import DecisionTreeClassifier\n",
        "from sklearn.ensemble import RandomForestClassifier\n",
        "\n",
        "svc = SVC(probability=True)\n",
        "mnb = MultinomialNB()\n",
        "dtc = DecisionTreeClassifier()\n",
        "lrc = LogisticRegression()\n",
        "rfc = RandomForestClassifier()\n",
        "\n",
        "clfs = {\n",
        "    'SVC': svc,\n",
        "    'NB': mnb,\n",
        "    'DT': dtc,\n",
        "    'LR': lrc,\n",
        "    'RF': rfc,\n",
        "}\n"
      ],
      "metadata": {
        "id": "rl1i-ZXw4Hxz"
      },
      "execution_count": null,
      "outputs": []
    },
    {
      "cell_type": "code",
      "source": [
        "# Hyperparameter tuning\n",
        "from sklearn.model_selection import GridSearchCV\n",
        "\n",
        "param_grid = {\n",
        "    'SVC': {\n",
        "        'kernel': ['linear', 'poly', 'rbf', 'sigmoid'],\n",
        "        'C': [0.1, 1, 10, 100],\n",
        "        'gamma': [0.01, 0.1, 1, 10]\n",
        "    },\n",
        "    'NB': {},\n",
        "    'DT': {\n",
        "        'max_depth': [None, 10, 20, 30, 40, 50],\n",
        "        'min_samples_split': [2, 5, 10]\n",
        "    },\n",
        "    'LR': {\n",
        "        'penalty': ['l1', 'l2'],\n",
        "        'C': [0.1, 1, 10, 100]\n",
        "    },\n",
        "    'RF': {\n",
        "        'n_estimators': [50, 100, 200],\n",
        "        'max_features': ['auto', 'sqrt', 'log2']\n",
        "    }\n",
        "}"
      ],
      "metadata": {
        "id": "9EBWVZ1W4NZ7"
      },
      "execution_count": null,
      "outputs": []
    },
    {
      "cell_type": "code",
      "source": [
        "best_estimators = {}\n",
        "for name, clf in clfs.items():\n",
        "    grid_search = GridSearchCV(clf, param_grid[name], cv=5, scoring='accuracy', n_jobs=-1, verbose=1)\n",
        "    grid_search.fit(X_train, y_train)\n",
        "    best_estimators[name] = grid_search.best_estimator_\n",
        "    print(f\"Best parameters for {name}: {grid_search.best_params_}\")"
      ],
      "metadata": {
        "colab": {
          "base_uri": "https://localhost:8080/"
        },
        "id": "0Vhj0qOs4PsO",
        "outputId": "23a7fd64-3e85-4bf2-8065-ad2e80d1488a"
      },
      "execution_count": null,
      "outputs": [
        {
          "output_type": "stream",
          "name": "stdout",
          "text": [
            "Fitting 5 folds for each of 64 candidates, totalling 320 fits\n",
            "Best parameters for SVC: {'C': 10, 'gamma': 1, 'kernel': 'rbf'}\n",
            "Fitting 5 folds for each of 1 candidates, totalling 5 fits\n",
            "Best parameters for NB: {}\n",
            "Fitting 5 folds for each of 18 candidates, totalling 90 fits\n",
            "Best parameters for DT: {'max_depth': 30, 'min_samples_split': 5}\n",
            "Fitting 5 folds for each of 8 candidates, totalling 40 fits\n"
          ]
        },
        {
          "output_type": "stream",
          "name": "stderr",
          "text": [
            "/usr/local/lib/python3.10/dist-packages/sklearn/model_selection/_validation.py:378: FitFailedWarning: \n",
            "20 fits failed out of a total of 40.\n",
            "The score on these train-test partitions for these parameters will be set to nan.\n",
            "If these failures are not expected, you can try to debug them by setting error_score='raise'.\n",
            "\n",
            "Below are more details about the failures:\n",
            "--------------------------------------------------------------------------------\n",
            "20 fits failed with the following error:\n",
            "Traceback (most recent call last):\n",
            "  File \"/usr/local/lib/python3.10/dist-packages/sklearn/model_selection/_validation.py\", line 686, in _fit_and_score\n",
            "    estimator.fit(X_train, y_train, **fit_params)\n",
            "  File \"/usr/local/lib/python3.10/dist-packages/sklearn/linear_model/_logistic.py\", line 1162, in fit\n",
            "    solver = _check_solver(self.solver, self.penalty, self.dual)\n",
            "  File \"/usr/local/lib/python3.10/dist-packages/sklearn/linear_model/_logistic.py\", line 54, in _check_solver\n",
            "    raise ValueError(\n",
            "ValueError: Solver lbfgs supports only 'l2' or 'none' penalties, got l1 penalty.\n",
            "\n",
            "  warnings.warn(some_fits_failed_message, FitFailedWarning)\n",
            "/usr/local/lib/python3.10/dist-packages/sklearn/model_selection/_search.py:952: UserWarning: One or more of the test scores are non-finite: [       nan 0.88432659        nan 0.98022214        nan 0.98347496\n",
            "        nan 0.98297433]\n",
            "  warnings.warn(\n"
          ]
        },
        {
          "output_type": "stream",
          "name": "stdout",
          "text": [
            "Best parameters for LR: {'C': 10, 'penalty': 'l2'}\n",
            "Fitting 5 folds for each of 9 candidates, totalling 45 fits\n",
            "Best parameters for RF: {'max_features': 'log2', 'n_estimators': 100}\n"
          ]
        }
      ]
    },
    {
      "cell_type": "code",
      "source": [
        "# Cross-validation\n",
        "from sklearn.model_selection import cross_val_score\n",
        "\n",
        "for name, clf in best_estimators.items():\n",
        "    cv_scores = cross_val_score(clf, X, y, cv=5, scoring='accuracy')\n",
        "    print(f\"{name} Cross-Validation Accuracy: {cv_scores.mean():.2f} (+/- {cv_scores.std() * 2:.2f})\")"
      ],
      "metadata": {
        "colab": {
          "base_uri": "https://localhost:8080/"
        },
        "id": "Mx_S3BTc4SYm",
        "outputId": "e0cb2ca2-54e1-442c-b3f3-80b175dd476d"
      },
      "execution_count": null,
      "outputs": [
        {
          "output_type": "stream",
          "name": "stdout",
          "text": [
            "SVC Cross-Validation Accuracy: 0.99 (+/- 0.01)\n",
            "NB Cross-Validation Accuracy: 0.95 (+/- 0.01)\n",
            "DT Cross-Validation Accuracy: 0.93 (+/- 0.02)\n",
            "LR Cross-Validation Accuracy: 0.99 (+/- 0.01)\n",
            "RF Cross-Validation Accuracy: 0.98 (+/- 0.01)\n"
          ]
        }
      ]
    },
    {
      "cell_type": "code",
      "source": [
        "# Model evaluation\n",
        "from sklearn.metrics import accuracy_score, precision_score, recall_score, f1_score, roc_auc_score\n",
        "\n",
        "def evaluate_classifier(clf, X_test, y_test):\n",
        "    y_pred = clf.predict(X_test)\n",
        "    accuracy = accuracy_score(y_test, y_pred)\n",
        "    precision = precision_score(y_test, y_pred)\n",
        "    recall = recall_score(y_test, y_pred)\n",
        "    f1 = f1_score(y_test, y_pred)\n",
        "    y_pred_proba = clf.predict_proba(X_test)[:, 1] if hasattr(clf, \"predict_proba\") else None\n",
        "    roc_auc = roc_auc_score(y_test, y_pred_proba) if y_pred_proba is not None else None\n",
        "\n",
        "    return accuracy, precision, recall, f1, roc_auc\n",
        "\n",
        "# Initialize evaluation_metrics list to store results\n",
        "evaluation_metrics = []\n",
        "\n",
        "for name, clf in best_estimators.items():\n",
        "    accuracy, precision, recall, f1, roc_auc = evaluate_classifier(clf, X_test, y_test)\n",
        "    print(f\"{name} - Accuracy: {accuracy:.2f}, Precision: {precision:.2f}, Recall: {recall:.2f}, F1-score: {f1:.2f}, ROC-AUC: {roc_auc:.2f}\")\n",
        "    evaluation_metrics.append((name, accuracy, precision, recall, f1, roc_auc))"
      ],
      "metadata": {
        "colab": {
          "base_uri": "https://localhost:8080/"
        },
        "id": "QL4E-7G05JTL",
        "outputId": "b82a75a9-222c-4281-adff-f6c34a4acf13"
      },
      "execution_count": null,
      "outputs": [
        {
          "output_type": "stream",
          "name": "stdout",
          "text": [
            "SVC - Accuracy: 0.98, Precision: 0.97, Recall: 0.98, F1-score: 0.97, ROC-AUC: 1.00\n",
            "NB - Accuracy: 0.93, Precision: 0.85, Recall: 0.94, F1-score: 0.89, ROC-AUC: 0.98\n",
            "DT - Accuracy: 0.94, Precision: 0.87, Recall: 0.92, F1-score: 0.90, ROC-AUC: 0.94\n",
            "LR - Accuracy: 0.98, Precision: 0.97, Recall: 0.97, F1-score: 0.97, ROC-AUC: 1.00\n",
            "RF - Accuracy: 0.98, Precision: 0.96, Recall: 0.97, F1-score: 0.97, ROC-AUC: 1.00\n"
          ]
        }
      ]
    },
    {
      "cell_type": "code",
      "source": [
        "# Visualization of model performance\n",
        "names, accuracies, precisions, recalls, f1_scores, roc_aucs = zip(*evaluation_metrics)\n",
        "\n",
        "metrics = ['Accuracy', 'Precision', 'Recall', 'F1-score', 'ROC-AUC']\n",
        "values = [accuracies, precisions, recalls, f1_scores, roc_aucs]\n",
        "\n",
        "x = np.arange(len(names))  # the label locations\n",
        "width = 0.15\n",
        "\n",
        "fig, ax = plt.subplots(figsize=(12, 8))\n",
        "rects1 = ax.bar(x - 2*width, accuracies, width, label='Accuracy')\n",
        "rects2 = ax.bar(x - width, precisions, width, label='Precision')\n",
        "rects3 = ax.bar(x, recalls, width, label='Recall')\n",
        "rects4 = ax.bar(x + width, f1_scores, width, label='F1-score')\n",
        "rects5 = ax.bar(x + 2*width, [r if r is not None else 0 for r in roc_aucs], width, label='ROC-AUC')\n",
        "\n",
        "# Add some text for labels, title, and custom x-axis tick labels, etc.\n",
        "ax.set_xlabel('Models')\n",
        "ax.set_ylabel('Scores')\n",
        "ax.set_title('Comparison of Model Performance Metrics')\n",
        "ax.set_xticks(x)\n",
        "ax.set_xticklabels(names)\n",
        "ax.legend()\n"
      ],
      "metadata": {
        "colab": {
          "base_uri": "https://localhost:8080/",
          "height": 735
        },
        "id": "QM-GgOg05Jyy",
        "outputId": "26dd7c51-e2f6-4045-d08b-4f6640af6a2b"
      },
      "execution_count": null,
      "outputs": [
        {
          "output_type": "execute_result",
          "data": {
            "text/plain": [
              "<matplotlib.legend.Legend at 0x7e13bc388f10>"
            ]
          },
          "metadata": {},
          "execution_count": 29
        },
        {
          "output_type": "display_data",
          "data": {
            "text/plain": [
              "<Figure size 1200x800 with 1 Axes>"
            ],
            "image/png": "[encoded data removed]"
          },
          "metadata": {}
        }
      ]
    }
  ]
}